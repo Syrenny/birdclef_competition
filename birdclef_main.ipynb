{
 "cells": [
  {
   "cell_type": "markdown",
   "id": "fc088d25",
   "metadata": {
    "papermill": {
     "duration": 0.007254,
     "end_time": "2023-05-25T09:07:39.615010",
     "exception": false,
     "start_time": "2023-05-25T09:07:39.607756",
     "status": "completed"
    },
    "tags": []
   },
   "source": [
    "# **Импорты**"
   ]
  },
  {
   "cell_type": "code",
   "execution_count": 1,
   "id": "8fcaf5db",
   "metadata": {
    "execution": {
     "iopub.execute_input": "2023-05-25T09:07:39.630992Z",
     "iopub.status.busy": "2023-05-25T09:07:39.629628Z",
     "iopub.status.idle": "2023-05-25T09:07:46.525467Z",
     "shell.execute_reply": "2023-05-25T09:07:46.524008Z"
    },
    "id": "YPU_-ghI5aWB",
    "outputId": "984e2f8e-d20e-4bc9-cc75-9d264353c8fd",
    "papermill": {
     "duration": 6.906978,
     "end_time": "2023-05-25T09:07:46.528575",
     "exception": false,
     "start_time": "2023-05-25T09:07:39.621597",
     "status": "completed"
    },
    "tags": []
   },
   "outputs": [],
   "source": [
    "import os\n",
    "import gc\n",
    "import random\n",
    "import numpy as np \n",
    "import pandas as pd\n",
    "\n",
    "import torch\n",
    "import torch.nn as nn\n",
    "from torch.optim import Adam\n",
    "import torch.nn.functional as F\n",
    "from torch.utils.data import Dataset, DataLoader\n",
    "import torchvision.transforms as transforms\n",
    "\n",
    "import timm\n",
    "from tqdm import tqdm\n",
    "from sklearn.preprocessing import LabelEncoder\n",
    "from sklearn.model_selection import train_test_split\n",
    "from sklearn.metrics import average_precision_score\n",
    "\n",
    "import librosa as lb\n",
    "import librosa.display as lbd\n",
    "import soundfile as sf\n",
    "from soundfile import SoundFile "
   ]
  },
  {
   "cell_type": "code",
   "execution_count": 2,
   "id": "c1571092",
   "metadata": {
    "execution": {
     "iopub.execute_input": "2023-05-25T09:07:46.543431Z",
     "iopub.status.busy": "2023-05-25T09:07:46.543012Z",
     "iopub.status.idle": "2023-05-25T09:07:46.549109Z",
     "shell.execute_reply": "2023-05-25T09:07:46.547987Z"
    },
    "papermill": {
     "duration": 0.015947,
     "end_time": "2023-05-25T09:07:46.551244",
     "exception": false,
     "start_time": "2023-05-25T09:07:46.535297",
     "status": "completed"
    },
    "tags": []
   },
   "outputs": [],
   "source": [
    "device = 'cpu'\n",
    "\n",
    "batch_size = 32\n",
    "num_fold = 5\n",
    "num_classes = 264\n",
    "sample_rate = 32000\n",
    "max_time = 5\n",
    "n_mels = 224\n",
    "n_fft = 1024\n",
    "epochs = 10\n",
    "hop_length = 512"
   ]
  },
  {
   "cell_type": "code",
   "execution_count": 3,
   "id": "8ca8efee",
   "metadata": {
    "execution": {
     "iopub.execute_input": "2023-05-25T09:07:46.565931Z",
     "iopub.status.busy": "2023-05-25T09:07:46.565011Z",
     "iopub.status.idle": "2023-05-25T09:07:46.574662Z",
     "shell.execute_reply": "2023-05-25T09:07:46.573891Z"
    },
    "id": "hupbpuSs5aWD",
    "papermill": {
     "duration": 0.019313,
     "end_time": "2023-05-25T09:07:46.576818",
     "exception": false,
     "start_time": "2023-05-25T09:07:46.557505",
     "status": "completed"
    },
    "tags": []
   },
   "outputs": [],
   "source": [
    "def compute_melspec(y, sr, n_mels, fmin, fmax):\n",
    "    melspec = lb.feature.melspectrogram(\n",
    "        y=y, sr=sr, n_mels=n_mels, fmin=fmin, fmax=fmax,\n",
    "    )\n",
    "\n",
    "    melspec = lb.power_to_db(melspec).astype(np.float32)\n",
    "    return melspec\n",
    "\n",
    "\n",
    "def mono_to_color(X, eps=1e-6, mean=None, std=None):\n",
    "    mean = mean or X.mean()\n",
    "    std = std or X.std()\n",
    "    X = (X - mean) / (std + eps)\n",
    "    \n",
    "    _min, _max = X.min(), X.max()\n",
    "\n",
    "    if (_max - _min) > eps:\n",
    "        V = np.clip(X, _min, _max)\n",
    "        V = 255 * (V - _min) / (_max - _min)\n",
    "        V = V.astype(np.uint8)\n",
    "    else:\n",
    "        V = np.zeros_like(X, dtype=np.uint8)\n",
    "        \n",
    "    return V"
   ]
  },
  {
   "cell_type": "code",
   "execution_count": 4,
   "id": "721a2ae3",
   "metadata": {
    "execution": {
     "iopub.execute_input": "2023-05-25T09:07:46.591738Z",
     "iopub.status.busy": "2023-05-25T09:07:46.591082Z",
     "iopub.status.idle": "2023-05-25T09:07:46.595519Z",
     "shell.execute_reply": "2023-05-25T09:07:46.594788Z"
    },
    "id": "kNnTCmeU5aWI",
    "papermill": {
     "duration": 0.014141,
     "end_time": "2023-05-25T09:07:46.597475",
     "exception": false,
     "start_time": "2023-05-25T09:07:46.583334",
     "status": "completed"
    },
    "tags": []
   },
   "outputs": [],
   "source": [
    "transform = transforms.Compose(\n",
    "    [transforms.ToTensor(), transforms.Resize((120, 224)),\n",
    "     # transforms.Normalize(mean=[0.485, 0.456, 0.406], std=[0.229, 0.224, 0.225])\n",
    "    ])"
   ]
  },
  {
   "cell_type": "code",
   "execution_count": 5,
   "id": "2bf05e90",
   "metadata": {
    "execution": {
     "iopub.execute_input": "2023-05-25T09:07:46.612108Z",
     "iopub.status.busy": "2023-05-25T09:07:46.611490Z",
     "iopub.status.idle": "2023-05-25T09:07:46.629401Z",
     "shell.execute_reply": "2023-05-25T09:07:46.628305Z"
    },
    "id": "4ndPVt-O5aWM",
    "papermill": {
     "duration": 0.028259,
     "end_time": "2023-05-25T09:07:46.631989",
     "exception": false,
     "start_time": "2023-05-25T09:07:46.603730",
     "status": "completed"
    },
    "tags": []
   },
   "outputs": [],
   "source": [
    "class BirdDataset(Dataset):\n",
    "    def __init__(self, data, sr=32000, n_mels=128, fmin=0, fmax=None, duration=5, \n",
    "                 step=None, res_type=\"kaiser_fast\", resample=True, valid=False, transform=None):\n",
    "        self.data = data\n",
    "        self.sr = sr\n",
    "        self.n_mels = n_mels\n",
    "        self.fmin = fmin\n",
    "        self.fmax = fmax or self.sr // 2\n",
    "        \n",
    "        self.transform = transform\n",
    "\n",
    "        self.duration = duration\n",
    "        self.audio_length = self.duration*self.sr\n",
    "        self.step = step or self.audio_length\n",
    "        \n",
    "        self.valid = valid\n",
    "        self.path = '' if valid else 'kaggle/input/train_audio/'\n",
    "        \n",
    "        self.res_type = res_type\n",
    "        self.resample = resample\n",
    "\n",
    "    def __len__(self):\n",
    "        return len(self.data)\n",
    "    \n",
    "    def normalize(self, image):\n",
    "        image = image.astype(\"float32\", copy=False) / 255.0\n",
    "        if image.shape[1] > 256:\n",
    "            image = image[:128, :256]\n",
    "        else:\n",
    "            zeroes = np.zeros((128, 256 - image.shape[1]))\n",
    "            image = np.concatenate([image, zeroes], axis=1, dtype=np.float32)\n",
    "          \n",
    "        image = np.stack([image, image, image], axis=0)\n",
    "        return image\n",
    "    \n",
    "    def audio_to_image(self, audio):\n",
    "        melspec = compute_melspec(audio, self.sr, self.n_mels, self.fmin, self.fmax) \n",
    "        image = mono_to_color(melspec)\n",
    "        image = self.normalize(image)\n",
    "        return image\n",
    "\n",
    "    def read_file(self, row):\n",
    "        filepath = self.path + str(row['path'])\n",
    "        audio, orig_sr = sf.read(filepath, dtype=\"float32\")\n",
    "\n",
    "        if self.resample and orig_sr != self.sr:\n",
    "            audio = lb.resample(audio, orig_sr, self.sr, res_type=self.res_type)\n",
    "          \n",
    "        if self.valid:\n",
    "            audios = []\n",
    "            for i in range(self.audio_length, len(audio) + self.step, self.step):\n",
    "                start = max(0, i - self.audio_length)\n",
    "                end = start + self.audio_length\n",
    "                audios.append(audio[start:end])\n",
    "\n",
    "            if len(audios[-1]) < self.audio_length:\n",
    "                audios = audios[:-1]\n",
    "\n",
    "            images = [self.audio_to_image(audio) for audio in audios]\n",
    "            images = np.stack(images)\n",
    "            \n",
    "        else:\n",
    "            images = self.audio_to_image(audio)  \n",
    "        \n",
    "        labels = torch.tensor(row[3:]).float() \n",
    "        return (images, labels)\n",
    "    \n",
    "    def __getitem__(self, idx):\n",
    "        return self.read_file(self.data.loc[idx])"
   ]
  },
  {
   "cell_type": "code",
   "execution_count": 6,
   "id": "18f43832",
   "metadata": {
    "execution": {
     "iopub.execute_input": "2023-05-25T09:07:46.648082Z",
     "iopub.status.busy": "2023-05-25T09:07:46.647212Z",
     "iopub.status.idle": "2023-05-25T09:07:46.904525Z",
     "shell.execute_reply": "2023-05-25T09:07:46.903377Z"
    },
    "id": "jwwmFaze5aWP",
    "papermill": {
     "duration": 0.267325,
     "end_time": "2023-05-25T09:07:46.907197",
     "exception": false,
     "start_time": "2023-05-25T09:07:46.639872",
     "status": "completed"
    },
    "tags": []
   },
   "outputs": [],
   "source": [
    "data = pd.read_csv('/kaggle/input/birdclef-2023/train_metadata.csv')\n",
    "data = pd.concat(\n",
    "    [\n",
    "        pd.Series(data['primary_label']), \n",
    "        pd.Series(data['type']), \n",
    "        pd.Series(data['filename'], name='path')\n",
    "    ], \n",
    "    axis=1, names=['primary_label', 'type', 'path']\n",
    ")\n",
    "\n",
    "birds = list(pd.get_dummies(data['primary_label']).columns)\n",
    "filenames = data.path.values.tolist()\n",
    "\n",
    "data = pd.concat([data, pd.get_dummies(data['primary_label'])], axis=1)\n",
    "\n",
    "train_data, valid_data = train_test_split(data, train_size=0.7, shuffle=True)\n",
    "train_data = train_data.reset_index(drop=True)\n",
    "valid_data = valid_data.reset_index(drop=True)"
   ]
  },
  {
   "cell_type": "code",
   "execution_count": 7,
   "id": "0b5d8748",
   "metadata": {
    "execution": {
     "iopub.execute_input": "2023-05-25T09:07:46.921546Z",
     "iopub.status.busy": "2023-05-25T09:07:46.921177Z",
     "iopub.status.idle": "2023-05-25T09:07:46.926494Z",
     "shell.execute_reply": "2023-05-25T09:07:46.925346Z"
    },
    "id": "P3LRPeJ35aWR",
    "papermill": {
     "duration": 0.015395,
     "end_time": "2023-05-25T09:07:46.928979",
     "exception": false,
     "start_time": "2023-05-25T09:07:46.913584",
     "status": "completed"
    },
    "tags": []
   },
   "outputs": [],
   "source": [
    "train_dataset = BirdDataset(train_data, transform=transform)\n",
    "train_dataloader = DataLoader(train_dataset, shuffle=True, batch_size=batch_size)\n",
    "\n",
    "valid_dataset = BirdDataset(valid_data)\n",
    "valid_dataloader = DataLoader(valid_dataset, shuffle=True, batch_size=batch_size)"
   ]
  },
  {
   "cell_type": "code",
   "execution_count": 8,
   "id": "36a4a164",
   "metadata": {
    "execution": {
     "iopub.execute_input": "2023-05-25T09:07:46.943408Z",
     "iopub.status.busy": "2023-05-25T09:07:46.943044Z",
     "iopub.status.idle": "2023-05-25T09:07:46.949612Z",
     "shell.execute_reply": "2023-05-25T09:07:46.948581Z"
    },
    "id": "vsSuxTdL5aWS",
    "papermill": {
     "duration": 0.016563,
     "end_time": "2023-05-25T09:07:46.951886",
     "exception": false,
     "start_time": "2023-05-25T09:07:46.935323",
     "status": "completed"
    },
    "tags": []
   },
   "outputs": [],
   "source": [
    "class Model(nn.Module):\n",
    "    def __init__(self):\n",
    "        super(Model, self).__init__()\n",
    "        self.model = timm.create_model(\"tf_efficientnet_b1_ns\", pretrained=False)\n",
    "        self.in_features = self.model.classifier.in_features\n",
    "        self.model.classifier = nn.Sequential(nn.Linear(self.in_features, num_classes))\n",
    "    \n",
    "    def forward(self, images):\n",
    "        features = self.model(images)\n",
    "        return features"
   ]
  },
  {
   "cell_type": "code",
   "execution_count": 9,
   "id": "fcad8b61",
   "metadata": {
    "execution": {
     "iopub.execute_input": "2023-05-25T09:07:46.966517Z",
     "iopub.status.busy": "2023-05-25T09:07:46.966138Z",
     "iopub.status.idle": "2023-05-25T09:07:46.974620Z",
     "shell.execute_reply": "2023-05-25T09:07:46.973605Z"
    },
    "id": "mxUSFWYp5aWT",
    "papermill": {
     "duration": 0.018413,
     "end_time": "2023-05-25T09:07:46.976885",
     "exception": false,
     "start_time": "2023-05-25T09:07:46.958472",
     "status": "completed"
    },
    "tags": []
   },
   "outputs": [],
   "source": [
    "def padded_cmap(solution, submission, padding_factor=5):\n",
    "    solution = solution.drop(['row_id'], axis=1, errors='ignore')\n",
    "    submission = submission.drop(['row_id'], axis=1, errors='ignore')\n",
    "    \n",
    "    new_rows = []\n",
    "    for i in range(padding_factor):\n",
    "        new_rows.append([1 for i in range(len(solution.columns))])\n",
    "    new_rows = pd.DataFrame(new_rows)\n",
    "    new_rows.columns = solution.columns\n",
    "    \n",
    "    padded_solution = pd.concat([solution, new_rows]).reset_index(drop=True).copy()\n",
    "    padded_submission = pd.concat([submission, new_rows]).reset_index(drop=True).copy()\n",
    "    \n",
    "    score = sklearn.metrics.average_precision_score(\n",
    "        padded_solution.values,\n",
    "        padded_submission.values,\n",
    "        average='macro',\n",
    "    )\n",
    "    return score"
   ]
  },
  {
   "cell_type": "code",
   "execution_count": 10,
   "id": "43785f7e",
   "metadata": {
    "execution": {
     "iopub.execute_input": "2023-05-25T09:07:46.991488Z",
     "iopub.status.busy": "2023-05-25T09:07:46.991129Z",
     "iopub.status.idle": "2023-05-25T09:07:47.000569Z",
     "shell.execute_reply": "2023-05-25T09:07:46.999286Z"
    },
    "id": "ikrlnNtY5aWU",
    "papermill": {
     "duration": 0.019588,
     "end_time": "2023-05-25T09:07:47.002970",
     "exception": false,
     "start_time": "2023-05-25T09:07:46.983382",
     "status": "completed"
    },
    "tags": []
   },
   "outputs": [],
   "source": [
    "def loss_fn(outputs, labels):\n",
    "    return  nn.CrossEntropyLoss()(outputs, labels)\n",
    "\n",
    "def train(model, data_loader, optimizer, scheduler, device, epoch):\n",
    "    model.train()\n",
    "    \n",
    "    running_loss = 0\n",
    "    loop = tqdm(data_loader, position=0)\n",
    "    for i, (mels, labels) in enumerate(loop):\n",
    "        mels = mels.to(device)\n",
    "        labels = labels.to(device)\n",
    "        \n",
    "        outputs = model(mels)\n",
    "        _, preds = torch.max(outputs, 1)\n",
    "       \n",
    "        loss = loss_fn(outputs, labels)\n",
    "        \n",
    "        loss.backward()\n",
    "        optimizer.step()\n",
    "        optimizer.zero_grad()\n",
    "        \n",
    "        if scheduler is not None:\n",
    "            scheduler.step()\n",
    "            \n",
    "        del mels, labels, outputs\n",
    "        #torch.cuda.empty_cache()\n",
    "        gc.collect()\n",
    "            \n",
    "        running_loss += loss.item()\n",
    "        \n",
    "        loop.set_description(f\"Epoch [{epoch+1}/{epochs}]\")\n",
    "        loop.set_postfix(loss=loss.item())\n",
    "\n",
    "    return running_loss / len(data_loader)"
   ]
  },
  {
   "cell_type": "code",
   "execution_count": 11,
   "id": "613fbef5",
   "metadata": {
    "execution": {
     "iopub.execute_input": "2023-05-25T09:07:47.018313Z",
     "iopub.status.busy": "2023-05-25T09:07:47.017949Z",
     "iopub.status.idle": "2023-05-25T09:07:47.028399Z",
     "shell.execute_reply": "2023-05-25T09:07:47.027427Z"
    },
    "id": "COWZpq5N5aWX",
    "papermill": {
     "duration": 0.020801,
     "end_time": "2023-05-25T09:07:47.030609",
     "exception": false,
     "start_time": "2023-05-25T09:07:47.009808",
     "status": "completed"
    },
    "tags": []
   },
   "outputs": [],
   "source": [
    "def valid(model, data_loader, device, epoch):\n",
    "    model.eval()\n",
    "    \n",
    "    running_loss = 0\n",
    "    pred = []\n",
    "    label = []\n",
    "    \n",
    "    loop = tqdm(data_loader, position=0)\n",
    "    for i, (mels, labels) in enumerate(loop):\n",
    "        mels = mels.to(device)\n",
    "        labels = labels.to(device)\n",
    "        \n",
    "        outputs = model(mels)\n",
    "        _, preds = torch.max(outputs, 1)\n",
    "       \n",
    "        loss = loss_fn(outputs, labels)\n",
    "            \n",
    "        running_loss += loss.item()\n",
    "        \n",
    "        loop.set_description(f\"Epoch [{epoch+1}/{epochs}]\")\n",
    "        loop.set_postfix(loss=loss.item())\n",
    "\n",
    "        label.append(labels.cpu().detach())\n",
    "        pred.append(outputs.sigmoid().cpu().detach())\n",
    "        \n",
    "        del mels, labels, outputs\n",
    "        #torch.cuda.empty_cache()\n",
    "        gc.collect()\n",
    "        \n",
    "    labels_df = torch.cat([x for x in label], dim=0)\n",
    "    pred_df = torch.cat([x for x in pred], dim=0)\n",
    "    label_df = pd.DataFrame(labels_df)  \n",
    "    pred_df = pd.DataFrame(pred_df)  \n",
    "    current_score = padded_cmap(label_df, pred_df)\n",
    "    \n",
    "    return running_loss/len(data_loader), current_score"
   ]
  },
  {
   "cell_type": "code",
   "execution_count": 12,
   "id": "7d22c04c",
   "metadata": {
    "execution": {
     "iopub.execute_input": "2023-05-25T09:07:47.045240Z",
     "iopub.status.busy": "2023-05-25T09:07:47.044804Z",
     "iopub.status.idle": "2023-05-25T09:07:47.061426Z",
     "shell.execute_reply": "2023-05-25T09:07:47.060583Z"
    },
    "id": "rvkajh455aWY",
    "papermill": {
     "duration": 0.026527,
     "end_time": "2023-05-25T09:07:47.063636",
     "exception": false,
     "start_time": "2023-05-25T09:07:47.037109",
     "status": "completed"
    },
    "tags": []
   },
   "outputs": [],
   "source": [
    "from pprint import pprint\n",
    "model_names = timm.list_models(pretrained=True)\n",
    "# pprint(model_names)"
   ]
  },
  {
   "cell_type": "code",
   "execution_count": 13,
   "id": "35e74bdd",
   "metadata": {
    "execution": {
     "iopub.execute_input": "2023-05-25T09:07:47.077948Z",
     "iopub.status.busy": "2023-05-25T09:07:47.077524Z",
     "iopub.status.idle": "2023-05-25T09:07:47.341979Z",
     "shell.execute_reply": "2023-05-25T09:07:47.340790Z"
    },
    "id": "_EKInE58GxbA",
    "outputId": "78ed547e-0e5d-4d9a-c9c4-4d04f4ad28b8",
    "papermill": {
     "duration": 0.274534,
     "end_time": "2023-05-25T09:07:47.344527",
     "exception": false,
     "start_time": "2023-05-25T09:07:47.069993",
     "status": "completed"
    },
    "tags": []
   },
   "outputs": [
    {
     "name": "stderr",
     "output_type": "stream",
     "text": [
      "/opt/conda/lib/python3.10/site-packages/timm/models/_factory.py:114: UserWarning: Mapping deprecated model name tf_efficientnet_b1_ns to current tf_efficientnet_b1.ns_jft_in1k.\n",
      "  model = create_fn(\n"
     ]
    }
   ],
   "source": [
    "model = Model()\n",
    "optimizer = Adam(model.parameters(), lr=1e-3)\n",
    "scheduler = torch.optim.lr_scheduler.CosineAnnealingLR(optimizer, eta_min=1e-5, T_max=10)\n",
    "# model.load_state_dict(torch.load('/kaggle/input/birds-weights/weights.pth', map_location='cpu'), strict=False)\n",
    "#model.to(device)"
   ]
  },
  {
   "cell_type": "code",
   "execution_count": 14,
   "id": "7edd7439",
   "metadata": {
    "execution": {
     "iopub.execute_input": "2023-05-25T09:07:47.359698Z",
     "iopub.status.busy": "2023-05-25T09:07:47.358991Z",
     "iopub.status.idle": "2023-05-25T09:07:47.374747Z",
     "shell.execute_reply": "2023-05-25T09:07:47.373758Z"
    },
    "id": "aksjHiWnF-7q",
    "papermill": {
     "duration": 0.026296,
     "end_time": "2023-05-25T09:07:47.377460",
     "exception": false,
     "start_time": "2023-05-25T09:07:47.351164",
     "status": "completed"
    },
    "tags": []
   },
   "outputs": [],
   "source": [
    "import os\n",
    "input_file_name = os.listdir('/kaggle/input/birdclef-2023/test_soundscapes')\n",
    "input_file_path = '/kaggle/input/birdclef-2023/test_soundscapes/'\n",
    "\n",
    "data = {'primary_label' : [x for x in range(len(input_file_name))], \n",
    "        'type' : [x for x in range(len(input_file_name))], \n",
    "        'path' : [str(input_file_path + x) for x in input_file_name]}\n",
    "\n",
    "test_data = pd.DataFrame(data=data)\n",
    "\n",
    "test_data = BirdDataset(test_data, valid=True)"
   ]
  },
  {
   "cell_type": "code",
   "execution_count": 15,
   "id": "3f97590d",
   "metadata": {
    "execution": {
     "iopub.execute_input": "2023-05-25T09:07:47.392146Z",
     "iopub.status.busy": "2023-05-25T09:07:47.391716Z",
     "iopub.status.idle": "2023-05-25T09:08:16.123199Z",
     "shell.execute_reply": "2023-05-25T09:08:16.122231Z"
    },
    "id": "_jT83cCZFs7k",
    "outputId": "eeda9127-2893-4355-d64e-03c62825349c",
    "papermill": {
     "duration": 28.741722,
     "end_time": "2023-05-25T09:08:16.125798",
     "exception": false,
     "start_time": "2023-05-25T09:07:47.384076",
     "status": "completed"
    },
    "tags": []
   },
   "outputs": [
    {
     "name": "stderr",
     "output_type": "stream",
     "text": [
      "/opt/conda/lib/python3.10/site-packages/timm/models/_factory.py:114: UserWarning: Mapping deprecated model name tf_efficientnet_b1_ns to current tf_efficientnet_b1.ns_jft_in1k.\n",
      "  model = create_fn(\n"
     ]
    }
   ],
   "source": [
    "model = Model().to(device)\n",
    "model.load_state_dict(torch.load(\"/kaggle/input/birdclef-weights/best.pth\", \n",
    "                                 map_location='cpu'), strict=False)\n",
    "predictions = []\n",
    "for en in range(len(test_data)):\n",
    "    images = torch.from_numpy(test_data[en][0])\n",
    "    images = images.to(device)\n",
    "    with torch.no_grad():\n",
    "        outputs = model(images).sigmoid().detach().cpu().numpy()\n",
    "    predictions.append(outputs)"
   ]
  },
  {
   "cell_type": "code",
   "execution_count": 16,
   "id": "6c8e75fe",
   "metadata": {
    "execution": {
     "iopub.execute_input": "2023-05-25T09:08:16.141777Z",
     "iopub.status.busy": "2023-05-25T09:08:16.140508Z",
     "iopub.status.idle": "2023-05-25T09:08:16.313677Z",
     "shell.execute_reply": "2023-05-25T09:08:16.312773Z"
    },
    "id": "mBuW5NwGEQcs",
    "outputId": "62df2127-e3b1-4d72-c10d-96bfe6c009c2",
    "papermill": {
     "duration": 0.183688,
     "end_time": "2023-05-25T09:08:16.316350",
     "exception": false,
     "start_time": "2023-05-25T09:08:16.132662",
     "status": "completed"
    },
    "tags": []
   },
   "outputs": [],
   "source": [
    "submission = pd.DataFrame(columns=['row_id']+birds)\n",
    "\n",
    "for i, file in enumerate(input_file_name):\n",
    "    pred = predictions[i]\n",
    "    file = input_file_name[i][:-4]\n",
    "    num_rows = len(pred)\n",
    "    row_ids = [f'{file}_{(i+1)*5}' for i in range(num_rows)]\n",
    "    df = pd.DataFrame(columns=['row_id'] + birds)\n",
    "    df['row_id'] = row_ids\n",
    "    df[birds] = pred\n",
    "    submission = pd.concat([submission, df]).reset_index(drop=True)\n",
    "submission.to_csv('submission.csv', index=False)"
   ]
  }
 ],
 "metadata": {
  "kernelspec": {
   "display_name": "Python 3",
   "language": "python",
   "name": "python3"
  },
  "language_info": {
   "codemirror_mode": {
    "name": "ipython",
    "version": 3
   },
   "file_extension": ".py",
   "mimetype": "text/x-python",
   "name": "python",
   "nbconvert_exporter": "python",
   "pygments_lexer": "ipython3",
   "version": "3.10.10"
  },
  "papermill": {
   "default_parameters": {},
   "duration": 50.568558,
   "end_time": "2023-05-25T09:08:18.348892",
   "environment_variables": {},
   "exception": null,
   "input_path": "__notebook__.ipynb",
   "output_path": "__notebook__.ipynb",
   "parameters": {},
   "start_time": "2023-05-25T09:07:27.780334",
   "version": "2.4.0"
  }
 },
 "nbformat": 4,
 "nbformat_minor": 5
}
